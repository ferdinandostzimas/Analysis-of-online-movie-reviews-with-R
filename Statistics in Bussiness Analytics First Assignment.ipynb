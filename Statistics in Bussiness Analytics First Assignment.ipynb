{
 "cells": [
  {
   "cell_type": "markdown",
   "id": "4777d1bc",
   "metadata": {},
   "source": [
    "# R LAB GRADED ASSIGNMENT 1\n",
    "## MSc in Business Analytics<br>\n",
    "Athens University of Business and Economics<br>\n",
    "Module: Statistics in Business Analytics 1<br>\n",
    "Assignment created by Professor Stauros Nikolakopoulos(Department of Statistics, AUEB)<br>\n",
    "Author: Ferdinand Tzimas\n"
   ]
  },
  {
   "cell_type": "markdown",
   "id": "047e164c",
   "metadata": {},
   "source": [
    "The data to be used for this assignment will be scraped from https://www.metacritic.com. You will have to manipulate data from film reviews (both critics- and public-based). Critics reviews (from Washington Post) are described in the critic variable while public reviews in the metascore variable."
   ]
  },
  {
   "cell_type": "code",
   "execution_count": 2,
   "id": "9d2df380",
   "metadata": {},
   "outputs": [
    {
     "name": "stderr",
     "output_type": "stream",
     "text": [
      " www.metacritic.com                      \n",
      "\n",
      "\n",
      "\n"
     ]
    },
    {
     "data": {
      "text/html": [
       "TRUE"
      ],
      "text/latex": [
       "TRUE"
      ],
      "text/markdown": [
       "TRUE"
      ],
      "text/plain": [
       "[1] TRUE"
      ]
     },
     "metadata": {},
     "output_type": "display_data"
    },
    {
     "name": "stderr",
     "output_type": "stream",
     "text": [
      "Warning message in eval(expr, envir, enclos):\n",
      "\"NAs introduced by coercion\"\n",
      "Warning message in eval(expr, envir, enclos):\n",
      "\"NAs introduced by coercion\"\n",
      "Warning message in eval(expr, envir, enclos):\n",
      "\"NAs introduced by coercion\"\n",
      "Warning message in eval(expr, envir, enclos):\n",
      "\"NAs introduced by coercion\"\n",
      "Warning message in eval(expr, envir, enclos):\n",
      "\"NAs introduced by coercion\"\n",
      "Warning message in eval(expr, envir, enclos):\n",
      "\"NAs introduced by coercion\"\n",
      "Warning message in eval(expr, envir, enclos):\n",
      "\"NAs introduced by coercion\"\n",
      "Warning message in eval(expr, envir, enclos):\n",
      "\"NAs introduced by coercion\"\n",
      "Warning message in eval(expr, envir, enclos):\n",
      "\"NAs introduced by coercion\"\n",
      "Warning message in eval(expr, envir, enclos):\n",
      "\"NAs introduced by coercion\"\n",
      "Warning message in eval(expr, envir, enclos):\n",
      "\"NAs introduced by coercion\"\n",
      "Warning message in eval(expr, envir, enclos):\n",
      "\"NAs introduced by coercion\"\n",
      "Warning message in eval(expr, envir, enclos):\n",
      "\"NAs introduced by coercion\"\n",
      "Warning message in eval(expr, envir, enclos):\n",
      "\"NAs introduced by coercion\"\n",
      "Warning message in eval(expr, envir, enclos):\n",
      "\"NAs introduced by coercion\"\n"
     ]
    }
   ],
   "source": [
    "library(robotstxt)\n",
    "library(rvest)\n",
    "\n",
    "# This code scrapes 27 pages from a website about movie reviews and creates a dataframe with each row corresponding to a movie reviewed.\n",
    "#After the assembly of the data in the df.tot dataframe we perform several actions based on descriptive statistics such as finding aggregate and derived data from the original data and performing data visualization in order to extract information about the movie reviews.\n",
    "\n",
    "\n",
    "paths_allowed(\"https://www.metacritic.com/publication/washington-post?filter=movies&num_items=100&sort_options=date&page=0\")\n",
    "\n",
    "main.page <- \"https://www.metacritic.com/publication/washington-post?filter=movies&num_items=100&sort_options=date&page=\"\n",
    "\n",
    "for (i in 0:27){\n",
    "                # at each iteration the variable step.page takes the value of main.page concatenated with the page number corresponding to that iteration so that each separate page of the website can be reached and scraped through the link fed to the variable step.page\n",
    "                step.page <- paste(main.page,i,sep=\"\") \n",
    "                webdata <-read_html(step.page) \n",
    "                #Vector title is created containing the titles of all movies of the page that corresponds to that particular iteration \n",
    "                title <-c(webdata %>% html_nodes(\"div.review_product\") %>% html_nodes(\"a\") %>%html_text()) \n",
    "                #Vector metascore is created which includes the metascores of all movies of the page that correspond to that particular iteration\n",
    "                metascore <- c(webdata %>% html_nodes(\"li.review_product_score.brief_metascore\") %>%html_nodes(\"span.metascore_w\") %>% html_text()) \n",
    "                #Vector critic is created which includes the critic's scores of all movies of the page that corresponds to that particular iteration\n",
    "                critic <- c(webdata %>% html_nodes(\"li.review_product_score.brief_critscore\") %>%html_nodes(\"span.metascore_w\") %>% html_text())\n",
    "                #Vector date is created which includes the dates of the review of all movies of the page that corresponds to that particular iteration\n",
    "                date <- c(webdata %>% html_nodes(\"li.review_action.post_date\") %>% html_text())  \n",
    "                if (length(date)<100 ){for (j in length(date):100){ date[j] <- date[length(date)]}}  \n",
    "                #isolates into vector a the day number from the strings-values of the date vector\n",
    "                a <- substr(date,12,13)\n",
    "                #isolates into vector b the month from the same strings-values of the date vector\n",
    "                b <- substr(date,8,10) \n",
    "                #isolates into vactor d the year from the same strings-values of the date vector\n",
    "                d <- substr(date,16,19) \n",
    "                lct<- Sys.getlocale(\"LC_TIME\"); Sys.setlocale(\"LC_TIME\", \"C\") \n",
    "                #concatenates the isolated day, month and year from a,b,d in a single string separated by / for all corresponding strings of the three same size vectors\n",
    "                date2 <- apply(cbind(a,b,d),1,paste,collapse=\"/\") \n",
    "                #turns date2 vector to date type(year-month-day)\n",
    "                date3 <- as.Date(date2,\"%d/%b/%Y\") \n",
    "                Sys.setlocale(\"LC_TIME\", lct) #OK\n",
    "                #creates a dataframe containing the titles,metascores,critic scores and dates for all movies scraped from that webpage\n",
    "                df = data.frame(title,metascore,critic,date3) \n",
    "                #gives names to the dataframe columns\n",
    "                colnames(df) <- c(\"title\", \"metascore\", \"critic\",\"date\") \n",
    "                #sets metascore column values at first as character type then as numeric\n",
    "                df$metascore <- as.numeric(as.character(df$metascore)) \n",
    "                #sets critic column values at first as character type then as numeric\n",
    "                df$critic <- as.numeric(as.character(df$critic)) \n",
    "                #keeps only the rows that have no missing values\n",
    "                df <- df[complete.cases(df), ] \n",
    "                if (i==0){ #OK\n",
    "                   df.tot <- df} \n",
    "                #for every iteration after the first... \n",
    "                if (i>0){ #?\n",
    "                  #the dataframe created, having all movies for that webpage, is merged by row with all other dataframes that were created and assigned to the variable df in all previous iterations.\n",
    "                   df.tot <- rbind(df.tot,df) } \n",
    "}\n",
    "#Ensures that the values of the title column of df.tot are in character form.\n",
    "df.tot$title <-as.character(df.tot$title)   "
   ]
  },
  {
   "cell_type": "markdown",
   "id": "938f8a3e",
   "metadata": {},
   "source": [
    "Provide a short description of the data"
   ]
  },
  {
   "cell_type": "code",
   "execution_count": 3,
   "id": "928ad371",
   "metadata": {},
   "outputs": [
    {
     "name": "stdout",
     "output_type": "stream",
     "text": [
      "'data.frame':\t2775 obs. of  4 variables:\n",
      " $ title    : chr  \"The Souvenir: Part II\" \"Clifford the Big Red Dog\" \"Eternals\" \"Spencer\" ...\n",
      " $ metascore: num  89 56 52 77 83 57 65 62 75 74 ...\n",
      " $ critic   : num  63 50 50 75 63 75 63 37 63 50 ...\n",
      " $ date     : Date, format: \"2021-11-09\" \"2021-11-09\" ...\n"
     ]
    }
   ],
   "source": [
    "str(df.tot)"
   ]
  },
  {
   "cell_type": "markdown",
   "id": "3ee13be9",
   "metadata": {},
   "source": [
    "Create three new variables that are directly included in the data frame (assign them directly as\n",
    "variables of the df.tot data frame).These variables should describe:\n",
    "\n",
    "\u000f The ratio of public score / critics score for each movie (ratio)\n",
    "\u000f The percentile of each metascore value (perc.meta) \n",
    "\u000f The percentile of each critic value (perc.critic)\n",
    "\u000f The year each film was reviewed (year)"
   ]
  },
  {
   "cell_type": "code",
   "execution_count": 4,
   "id": "d3dff069",
   "metadata": {},
   "outputs": [],
   "source": [
    "df.tot$ratio=df.tot$metascore/df.tot$critic\n",
    "df.tot$perc.meta=round((rank(df.tot$metascore)/length(df.tot$metascore)),digits=2)\n",
    "df.tot$perc.critic=round((rank(df.tot$critic)/length(df.tot$critic)),digits=2)\n",
    "df.tot$year <- as.numeric(format(df.tot$date, \"%Y\"))"
   ]
  },
  {
   "cell_type": "markdown",
   "id": "874ad487",
   "metadata": {},
   "source": [
    "Which film has the highest metascore score?"
   ]
  },
  {
   "cell_type": "code",
   "execution_count": 5,
   "id": "f190b3ea",
   "metadata": {},
   "outputs": [
    {
     "data": {
      "text/html": [
       "'Boyhood'"
      ],
      "text/latex": [
       "'Boyhood'"
      ],
      "text/markdown": [
       "'Boyhood'"
      ],
      "text/plain": [
       "[1] \"Boyhood\""
      ]
     },
     "metadata": {},
     "output_type": "display_data"
    }
   ],
   "source": [
    "df.tot$title[which(df.tot$metascore==max(df.tot$metascore))]\n",
    "#Huh! Its \"Boyhood\"..."
   ]
  },
  {
   "cell_type": "markdown",
   "id": "8993b5ac",
   "metadata": {},
   "source": [
    "Produce a boxplot of the perc.meta variable, for (faceted by) each year observed in the dataset (in\n",
    "the same plot window). Draw a vertical line at y=0.5 and discuss the result."
   ]
  },
  {
   "cell_type": "code",
   "execution_count": 6,
   "id": "1c001e89",
   "metadata": {},
   "outputs": [
    {
     "data": {
      "image/png": "[encoded data removed]",
      "text/plain": [
       "Plot with title \"Metascore percentiles by year\""
      ]
     },
     "metadata": {
      "image/png": {
       "height": 420,
       "width": 420
      }
     },
     "output_type": "display_data"
    }
   ],
   "source": [
    "boxplot(df.tot$perc.meta~df.tot$year,data=df.tot,main=\"Metascore percentiles by year\",xlab=\"Year\",ylab=\"Metascore percentiles\",col=\"orange\",border=\"brown\")\n",
    "abline(a=0.5,b=0)\n",
    "#WE NOTICE THAT THE MAJORITY OF VALUES AFTER 2015 ARE ABOVE THE 50 PERCENTILE OF ALL MOVIE METASCORES IN THE DATASET. BASICALLY, THEY GIVE MOVIES HIGHER SCORES AS OF LATELY."
   ]
  },
  {
   "cell_type": "markdown",
   "id": "4916504b",
   "metadata": {},
   "source": [
    "Some of the ratio values are infinity. Explain why this is happening and create a new data frame,\n",
    "named df.tot2, which does not include these observations\n"
   ]
  },
  {
   "cell_type": "code",
   "execution_count": 7,
   "id": "b133b7c2",
   "metadata": {},
   "outputs": [
    {
     "data": {
      "text/html": [
       "<style>\n",
       ".list-inline {list-style: none; margin:0; padding: 0}\n",
       ".list-inline>li {display: inline-block}\n",
       ".list-inline>li:not(:last-child)::after {content: \"\\00b7\"; padding: 0 .5ex}\n",
       "</style>\n",
       "<ol class=list-inline><li>291</li><li>1261</li><li>1427</li><li>1495</li><li>1630</li><li>1760</li><li>1944</li><li>1996</li><li>2068</li><li>2396</li><li>2675</li></ol>\n"
      ],
      "text/latex": [
       "\\begin{enumerate*}\n",
       "\\item 291\n",
       "\\item 1261\n",
       "\\item 1427\n",
       "\\item 1495\n",
       "\\item 1630\n",
       "\\item 1760\n",
       "\\item 1944\n",
       "\\item 1996\n",
       "\\item 2068\n",
       "\\item 2396\n",
       "\\item 2675\n",
       "\\end{enumerate*}\n"
      ],
      "text/markdown": [
       "1. 291\n",
       "2. 1261\n",
       "3. 1427\n",
       "4. 1495\n",
       "5. 1630\n",
       "6. 1760\n",
       "7. 1944\n",
       "8. 1996\n",
       "9. 2068\n",
       "10. 2396\n",
       "11. 2675\n",
       "\n",
       "\n"
      ],
      "text/plain": [
       " [1]  291 1261 1427 1495 1630 1760 1944 1996 2068 2396 2675"
      ]
     },
     "metadata": {},
     "output_type": "display_data"
    },
    {
     "data": {
      "text/html": [
       "<style>\n",
       ".list-inline {list-style: none; margin:0; padding: 0}\n",
       ".list-inline>li {display: inline-block}\n",
       ".list-inline>li:not(:last-child)::after {content: \"\\00b7\"; padding: 0 .5ex}\n",
       "</style>\n",
       "<ol class=list-inline><li>291</li><li>1261</li><li>1427</li><li>1495</li><li>1630</li><li>1760</li><li>1944</li><li>1996</li><li>2068</li><li>2396</li><li>2675</li></ol>\n"
      ],
      "text/latex": [
       "\\begin{enumerate*}\n",
       "\\item 291\n",
       "\\item 1261\n",
       "\\item 1427\n",
       "\\item 1495\n",
       "\\item 1630\n",
       "\\item 1760\n",
       "\\item 1944\n",
       "\\item 1996\n",
       "\\item 2068\n",
       "\\item 2396\n",
       "\\item 2675\n",
       "\\end{enumerate*}\n"
      ],
      "text/markdown": [
       "1. 291\n",
       "2. 1261\n",
       "3. 1427\n",
       "4. 1495\n",
       "5. 1630\n",
       "6. 1760\n",
       "7. 1944\n",
       "8. 1996\n",
       "9. 2068\n",
       "10. 2396\n",
       "11. 2675\n",
       "\n",
       "\n"
      ],
      "text/plain": [
       " [1]  291 1261 1427 1495 1630 1760 1944 1996 2068 2396 2675"
      ]
     },
     "metadata": {},
     "output_type": "display_data"
    },
    {
     "data": {
      "text/html": [],
      "text/latex": [],
      "text/markdown": [],
      "text/plain": [
       "integer(0)"
      ]
     },
     "metadata": {},
     "output_type": "display_data"
    }
   ],
   "source": [
    "which(!is.finite(df.tot$ratio))\n",
    "#Used above command to see where the problem is.\n",
    "#Lets see if any critics scored zero\n",
    "which(df.tot$critic==0)\n",
    "#By running the two previous commands it is obvious that ratio infinity lies within the rows of the dataframe where the critics scored zeros\n",
    "df.tot2<-df.tot[df.tot$critic!=0,]\n",
    "#Lets check\n",
    "which(!is.finite(df.tot2$ratio))"
   ]
  },
  {
   "cell_type": "markdown",
   "id": "91b2ab28",
   "metadata": {},
   "source": [
    "Work with the df.tot2 data frame. Create a matrix with two columns, one with the metascore and\n",
    "one with the critic. Calculate a vector that includes the average of the two, by using the apply()\n",
    "function."
   ]
  },
  {
   "cell_type": "code",
   "execution_count": 8,
   "id": "cfd31b09",
   "metadata": {},
   "outputs": [
    {
     "data": {
      "text/html": [
       "<style>\n",
       ".dl-inline {width: auto; margin:0; padding: 0}\n",
       ".dl-inline>dt, .dl-inline>dd {float: none; width: auto; display: inline-block}\n",
       ".dl-inline>dt::after {content: \":\\0020\"; padding-right: .5ex}\n",
       ".dl-inline>dt:not(:first-of-type) {padding-left: .5ex}\n",
       "</style><dl class=dl-inline><dt>2</dt><dd>76</dd><dt>3</dt><dd>53</dd><dt>4</dt><dd>51</dd><dt>5</dt><dd>76</dd><dt>6</dt><dd>73</dd><dt>7</dt><dd>66</dd><dt>8</dt><dd>64</dd><dt>9</dt><dd>49.5</dd><dt>10</dt><dd>69</dd><dt>11</dt><dd>62</dd><dt>12</dt><dd>71.5</dd><dt>13</dt><dd>74.5</dd><dt>14</dt><dd>70</dd><dt>15</dt><dd>71</dd><dt>16</dt><dd>90.5</dd><dt>17</dt><dd>39.5</dd><dt>18</dt><dd>78.5</dd><dt>19</dt><dd>93</dd><dt>20</dt><dd>72</dd><dt>21</dt><dd>71.5</dd></dl>\n"
      ],
      "text/latex": [
       "\\begin{description*}\n",
       "\\item[2] 76\n",
       "\\item[3] 53\n",
       "\\item[4] 51\n",
       "\\item[5] 76\n",
       "\\item[6] 73\n",
       "\\item[7] 66\n",
       "\\item[8] 64\n",
       "\\item[9] 49.5\n",
       "\\item[10] 69\n",
       "\\item[11] 62\n",
       "\\item[12] 71.5\n",
       "\\item[13] 74.5\n",
       "\\item[14] 70\n",
       "\\item[15] 71\n",
       "\\item[16] 90.5\n",
       "\\item[17] 39.5\n",
       "\\item[18] 78.5\n",
       "\\item[19] 93\n",
       "\\item[20] 72\n",
       "\\item[21] 71.5\n",
       "\\end{description*}\n"
      ],
      "text/markdown": [
       "2\n",
       ":   763\n",
       ":   534\n",
       ":   515\n",
       ":   766\n",
       ":   737\n",
       ":   668\n",
       ":   649\n",
       ":   49.510\n",
       ":   6911\n",
       ":   6212\n",
       ":   71.513\n",
       ":   74.514\n",
       ":   7015\n",
       ":   7116\n",
       ":   90.517\n",
       ":   39.518\n",
       ":   78.519\n",
       ":   9320\n",
       ":   7221\n",
       ":   71.5\n",
       "\n"
      ],
      "text/plain": [
       "   2    3    4    5    6    7    8    9   10   11   12   13   14   15   16   17 \n",
       "76.0 53.0 51.0 76.0 73.0 66.0 64.0 49.5 69.0 62.0 71.5 74.5 70.0 71.0 90.5 39.5 \n",
       "  18   19   20   21 \n",
       "78.5 93.0 72.0 71.5 "
      ]
     },
     "metadata": {},
     "output_type": "display_data"
    }
   ],
   "source": [
    "q7matrix <- df.tot2[,c('metascore','critic')]\n",
    "average<-apply(q7matrix,1,mean)\n",
    "head(average,20)"
   ]
  },
  {
   "cell_type": "markdown",
   "id": "dccbba35",
   "metadata": {},
   "source": [
    "Work with the df.tot2 data frame. Create a scatterplot with date on the x-axis and perc.meta on\n",
    "the y-axis. Main title should be \"Metascores percentiles\" and the axes named accordingly. Colour\n",
    "the dots according to whether the observation has a metascore>50 or not. Add a vertical dashed\n",
    "line for metascore=50. Make the y-axis labels to be perpendicular to the axis."
   ]
  },
  {
   "cell_type": "code",
   "execution_count": 9,
   "id": "c079b941",
   "metadata": {},
   "outputs": [
    {
     "data": {
      "text/html": [
       "<style>\n",
       ".list-inline {list-style: none; margin:0; padding: 0}\n",
       ".list-inline>li {display: inline-block}\n",
       ".list-inline>li:not(:last-child)::after {content: \"\\00b7\"; padding: 0 .5ex}\n",
       "</style>\n",
       "<ol class=list-inline><li>0.22</li><li>0.22</li><li>0.22</li><li>0.22</li><li>0.22</li><li>0.22</li><li>0.22</li><li>0.22</li><li>0.22</li><li>0.22</li><li>0.22</li><li>0.22</li><li>0.22</li><li>0.22</li><li>0.22</li><li>0.22</li><li>0.22</li><li>0.22</li><li>0.22</li><li>0.22</li><li>0.22</li><li>0.22</li><li>0.22</li><li>0.22</li><li>0.22</li><li>0.22</li><li>0.22</li><li>0.22</li><li>0.22</li><li>0.22</li><li>0.22</li><li>0.22</li><li>0.22</li><li>0.22</li><li>0.22</li><li>0.22</li><li>0.22</li><li>0.22</li><li>0.22</li><li>0.22</li></ol>\n"
      ],
      "text/latex": [
       "\\begin{enumerate*}\n",
       "\\item 0.22\n",
       "\\item 0.22\n",
       "\\item 0.22\n",
       "\\item 0.22\n",
       "\\item 0.22\n",
       "\\item 0.22\n",
       "\\item 0.22\n",
       "\\item 0.22\n",
       "\\item 0.22\n",
       "\\item 0.22\n",
       "\\item 0.22\n",
       "\\item 0.22\n",
       "\\item 0.22\n",
       "\\item 0.22\n",
       "\\item 0.22\n",
       "\\item 0.22\n",
       "\\item 0.22\n",
       "\\item 0.22\n",
       "\\item 0.22\n",
       "\\item 0.22\n",
       "\\item 0.22\n",
       "\\item 0.22\n",
       "\\item 0.22\n",
       "\\item 0.22\n",
       "\\item 0.22\n",
       "\\item 0.22\n",
       "\\item 0.22\n",
       "\\item 0.22\n",
       "\\item 0.22\n",
       "\\item 0.22\n",
       "\\item 0.22\n",
       "\\item 0.22\n",
       "\\item 0.22\n",
       "\\item 0.22\n",
       "\\item 0.22\n",
       "\\item 0.22\n",
       "\\item 0.22\n",
       "\\item 0.22\n",
       "\\item 0.22\n",
       "\\item 0.22\n",
       "\\end{enumerate*}\n"
      ],
      "text/markdown": [
       "1. 0.22\n",
       "2. 0.22\n",
       "3. 0.22\n",
       "4. 0.22\n",
       "5. 0.22\n",
       "6. 0.22\n",
       "7. 0.22\n",
       "8. 0.22\n",
       "9. 0.22\n",
       "10. 0.22\n",
       "11. 0.22\n",
       "12. 0.22\n",
       "13. 0.22\n",
       "14. 0.22\n",
       "15. 0.22\n",
       "16. 0.22\n",
       "17. 0.22\n",
       "18. 0.22\n",
       "19. 0.22\n",
       "20. 0.22\n",
       "21. 0.22\n",
       "22. 0.22\n",
       "23. 0.22\n",
       "24. 0.22\n",
       "25. 0.22\n",
       "26. 0.22\n",
       "27. 0.22\n",
       "28. 0.22\n",
       "29. 0.22\n",
       "30. 0.22\n",
       "31. 0.22\n",
       "32. 0.22\n",
       "33. 0.22\n",
       "34. 0.22\n",
       "35. 0.22\n",
       "36. 0.22\n",
       "37. 0.22\n",
       "38. 0.22\n",
       "39. 0.22\n",
       "40. 0.22\n",
       "\n",
       "\n"
      ],
      "text/plain": [
       " [1] 0.22 0.22 0.22 0.22 0.22 0.22 0.22 0.22 0.22 0.22 0.22 0.22 0.22 0.22 0.22\n",
       "[16] 0.22 0.22 0.22 0.22 0.22 0.22 0.22 0.22 0.22 0.22 0.22 0.22 0.22 0.22 0.22\n",
       "[31] 0.22 0.22 0.22 0.22 0.22 0.22 0.22 0.22 0.22 0.22"
      ]
     },
     "metadata": {},
     "output_type": "display_data"
    },
    {
     "data": {
      "image/png": "[encoded data removed]",
      "text/plain": [
       "Plot with title \"Metascore percentiles\""
      ]
     },
     "metadata": {
      "image/png": {
       "height": 420,
       "width": 420
      }
     },
     "output_type": "display_data"
    }
   ],
   "source": [
    "x <- df.tot2$date\n",
    "y <- df.tot2$perc.meta\n",
    "df.tot2$perc.meta[df.tot2$metascore==50]\n",
    "#23 percentile corresponds to metascore equal to 50\n",
    "plot(x,y,main='Metascore percentiles',xlab = 'Dates',ylab = 'Metascore Percentiles',las=1,col=ifelse(y>0.23,\"purple\",\"yellow\"))\n",
    "abline(a=0.23,b=0)"
   ]
  },
  {
   "cell_type": "markdown",
   "id": "ba656b52",
   "metadata": {},
   "source": [
    "Comment on the above graph, taking into account the possible range of values for metascore (0-100)"
   ]
  },
  {
   "cell_type": "code",
   "execution_count": 10,
   "id": "53c03cb2",
   "metadata": {},
   "outputs": [],
   "source": [
    "#As we can see from the scatterplot a metascore of 50 corresponds to 23 percentile meaning that 77 percent of all movies from the dataframe received metascores over 5 out of 10.\n",
    "#We also see that there more dots corresponding to metascores below 50 for the years prior to 2016. From 2016 and onward, we see more movies scoring above 50 compared to the period 2012-2015.\n"
   ]
  },
  {
   "cell_type": "code",
   "execution_count": null,
   "id": "2880388b",
   "metadata": {},
   "outputs": [],
   "source": []
  }
 ],
 "metadata": {
  "kernelspec": {
   "display_name": "R",
   "language": "R",
   "name": "ir"
  },
  "language_info": {
   "codemirror_mode": "r",
   "file_extension": ".r",
   "mimetype": "text/x-r-source",
   "name": "R",
   "pygments_lexer": "r",
   "version": "4.1.1"
  }
 },
 "nbformat": 4,
 "nbformat_minor": 5
}
